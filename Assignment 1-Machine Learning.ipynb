{
 "cells": [
  {
   "cell_type": "code",
   "execution_count": 9,
   "id": "6b30f6b7",
   "metadata": {},
   "outputs": [
    {
     "name": "stdout",
     "output_type": "stream",
     "text": [
      "The sorted list: [19, 19, 20, 22, 24, 24, 24, 25, 25, 26]\n",
      "The max age is: 26\n",
      "The min age is: 19\n",
      "[19, 19, 20, 22, 24, 24, 24, 25, 25, 26, 19, 26]\n",
      "[19, 19, 19, 20, 22, 24, 24, 24, 25, 25, 26, 26]\n",
      "The median age of the list is:  24\n",
      "The average age of the list is: 22.75\n",
      "The range of the ages: 7\n"
     ]
    }
   ],
   "source": [
    "#question 1\n",
    "\n",
    "#sort the list and find min and max age\n",
    "ages=[19,22,19,24,20,25,26,24,25,24]\n",
    "ages.sort()                                 #sorting the list\n",
    "print('The sorted list:',ages)\n",
    "print('The max age is:',max(ages))          #finding the largest and smallest element by using max() and min()\n",
    "print('The min age is:',min(ages)) \n",
    "\n",
    "#adding min and max of ages to the list again\n",
    "ages.append(min(ages))                     #using append()to add the maximum and minimum elements into the list elements into the list\n",
    "ages.append(max(ages))\n",
    "print(ages)\n",
    "ages.sort()                                #sorting the ages again for calculating the median\n",
    "print(ages)\n",
    "\n",
    "#finding the median\n",
    "m=0\n",
    "l=len(ages)\n",
    "if l%2==0:\n",
    "    m=int(((l/2)+(l/2+1))/2)\n",
    "else :\n",
    "    m=int(age(l+1)/2)\n",
    "print('The median age of the list is: ',ages[m])\n",
    "\n",
    "#finding the average\n",
    "avg=sum(ages)/len(ages)\n",
    "print('The average age of the list is:',avg)\n",
    "\n",
    "#finding the range\n",
    "range_age=max(ages)-min(ages)\n",
    "print('The range of the ages:',range_age)\n"
   ]
  },
  {
   "cell_type": "code",
   "execution_count": 23,
   "id": "cf61fa6c",
   "metadata": {},
   "outputs": [
    {
     "name": "stdout",
     "output_type": "stream",
     "text": [
      "{}\n",
      "\n",
      "dog: {'name': 'rico', 'breed': 'golden retriever', 'legs': 'four', 'age': '1 year'}\n",
      "\n",
      "STUDENT DICTIONARY:\n",
      " {'first_name': 'swetha', 'last name': 'nambari', 'gender': 'female', 'age': '21', 'marital_status': 'single', 'skills': ['C', 'python', 'java'], 'country': 'USA', 'city': 'Overland park', 'address': {'street:123 opop', 'zip:1234'}}\n",
      "\n",
      "The length of the student dictionary is: 9\n",
      "\n",
      "the value of the skills: ['C', 'python', 'java']\n",
      "\n",
      "the datatype of the key skills: <class 'list'>\n",
      "\n",
      " ['C', 'python', 'java', 'javascript']\n",
      "\n",
      " the dictionary keys as a list:\n",
      " dict_keys(['first_name', 'last name', 'gender', 'age', 'marital_status', 'skills', 'country', 'city', 'address'])\n",
      "\n",
      " the dictionary values as a list:\n",
      " dict_values(['swetha', 'nambari', 'female', '21', 'single', ['C', 'python', 'java', 'javascript'], 'USA', 'Overland park', {'street:123 opop', 'zip:1234'}])\n"
     ]
    }
   ],
   "source": [
    "#question 2\n",
    "#creating an empty dictionary called dog\n",
    "dog={}                                             #creating a empty dictionary named dog and printing it\n",
    "print(dog)\n",
    "dog={'name' : 'rico','breed' : 'golden retriever','legs' : 'four','age' : '1 year'}  #adding the keys and values to the dictionary dog\n",
    "print('\\ndog:',dog)\n",
    "\n",
    "#creating a student dictionary\n",
    "stu_dict={}\n",
    "stu_dict={'first_name':'swetha',\n",
    "          'last name':'nambari',\n",
    "          'gender':'female',\n",
    "          'age':'21',\n",
    "          'marital_status':'single',\n",
    "          'skills':['C','python','java'],\n",
    "          'country':'USA',\n",
    "          'city':'Overland park',\n",
    "          'address':{'street:123 opop',\n",
    "                    'zip:1234'}}\n",
    "print('\\nSTUDENT DICTIONARY:\\n',stu_dict)\n",
    "#length of the student dictionary\n",
    "print('\\nThe length of the student dictionary is:',len(stu_dict))\n",
    "#value of the skills and the datatype of list\n",
    "print('\\nthe value of the skills:',stu_dict.get('skills'))                #.get(skills) is used to get the value of the skills\n",
    "print('\\nthe datatype of the key skills:',type(stu_dict['skills']))\n",
    "#modifying the skills\n",
    "stu_dict['skills'].append('javascript')                                   #adding skills to the existing skills\n",
    "print('\\n',stu_dict.get('skills'))\n",
    "#keys as a list\n",
    "keys=stu_dict.keys()\n",
    "print('\\n the dictionary keys as a list:\\n',keys)\n",
    "#values as a list\n",
    "values=stu_dict.values()\n",
    "print('\\n the dictionary values as a list:\\n',values)"
   ]
  },
  {
   "cell_type": "code",
   "execution_count": 58,
   "id": "295a5761",
   "metadata": {},
   "outputs": [
    {
     "name": "stdout",
     "output_type": "stream",
     "text": [
      "('lik', 'lat', 'honey')\n",
      "('kar', 'ban', 'maji')\n",
      "siblings: ('lik', 'lat', 'honey', 'kar', 'ban', 'maji')\n",
      "The number of siblings: 6\n",
      "family members: ['lik', 'lat', 'honey', 'kar', 'ban', 'maji', 'sri', 'vee']\n"
     ]
    }
   ],
   "source": [
    "#question 3\n",
    "#creating tuples containing names of brothers and sisters\n",
    "sisters=('lik','lat','honey')\n",
    "brothers=('kar','ban','maji')\n",
    "print(sisters)\n",
    "print(brothers)\n",
    "siblings=sisters+brothers      #joining the siters and brothers tuple by concating both the brothers and sisters tuples\n",
    "print('siblings:',siblings)              \n",
    "print('The number of siblings:',len(siblings))     #finding the number of siblings using len()..the answer would be 6\n",
    "family_members=list(siblings)\n",
    "family_members.append('sri')          #adding mother and father to the siblings list and assigning it to the family members\n",
    "family_members.append('vee')\n",
    "print('family members:',family_members)"
   ]
  },
  {
   "cell_type": "code",
   "execution_count": 33,
   "id": "89bc390a",
   "metadata": {},
   "outputs": [
    {
     "name": "stdout",
     "output_type": "stream",
     "text": [
      "{'IBM', 'Microsoft', 'Google', 'Apple', 'Facebook', 'Oracle', 'Amazon'}\n",
      "The length of the set is: 7\n",
      "{'IBM', 'Twitter', 'Microsoft', 'Google', 'Apple', 'Facebook', 'Oracle', 'Amazon'}\n",
      "{'IBM', 'Google', 'Oracle', 'TCS', 'Infosys', 'HP', 'Microsoft', 'Twitter', 'Facebook', 'Apple', 'Amazon'}\n",
      "{'IBM', 'Google', 'Oracle', 'TCS', 'Infosys', 'Microsoft', 'Twitter', 'Facebook', 'Apple', 'Amazon'}\n"
     ]
    }
   ],
   "source": [
    "#question 4\n",
    "it_companies={'Facebook','Google','Microsoft','Apple','IBM','Oracle','Amazon'}\n",
    "print(it_companies)\n",
    "p=len(it_companies)                           #length of the companies\n",
    "print('The length of the set is:',p)\n",
    "it_companies.add('Twitter')                   #adding Twitter to the it_companies using add()\n",
    "print(it_companies)\n",
    "it_companies.update(['TCS','Infosys','HP'])   #inserting multiple it companies at once using update()\n",
    "print(it_companies)\n",
    "it_companies.remove('HP')                     #removing one of the itcompanies from the set \n",
    "print(it_companies)"
   ]
  },
  {
   "cell_type": "code",
   "execution_count": 31,
   "id": "91497f76",
   "metadata": {},
   "outputs": [
    {
     "ename": "KeyError",
     "evalue": "'Cape gemini'",
     "output_type": "error",
     "traceback": [
      "\u001b[1;31m---------------------------------------------------------------------------\u001b[0m",
      "\u001b[1;31mKeyError\u001b[0m                                  Traceback (most recent call last)",
      "Input \u001b[1;32mIn [31]\u001b[0m, in \u001b[0;36m<cell line: 2>\u001b[1;34m()\u001b[0m\n\u001b[0;32m      1\u001b[0m it_companies\u001b[38;5;241m.\u001b[39mdiscard(\u001b[38;5;124m'\u001b[39m\u001b[38;5;124mCape Gemini\u001b[39m\u001b[38;5;124m'\u001b[39m)\n\u001b[1;32m----> 2\u001b[0m \u001b[43mit_companies\u001b[49m\u001b[38;5;241;43m.\u001b[39;49m\u001b[43mremove\u001b[49m\u001b[43m(\u001b[49m\u001b[38;5;124;43m'\u001b[39;49m\u001b[38;5;124;43mCape gemini\u001b[39;49m\u001b[38;5;124;43m'\u001b[39;49m\u001b[43m)\u001b[49m\n",
      "\u001b[1;31mKeyError\u001b[0m: 'Cape gemini'"
     ]
    }
   ],
   "source": [
    "it_companies.discard('Cape Gemini')    #does not give any error when we use it to take out an element which is not present in the set\n",
    "it_companies.remove('Cape gemini')     #error arises..when we use remove an element which is present in the set"
   ]
  },
  {
   "cell_type": "code",
   "execution_count": 44,
   "id": "a188f0fb",
   "metadata": {},
   "outputs": [
    {
     "name": "stdout",
     "output_type": "stream",
     "text": [
      "{19, 20, 22, 24, 25, 26, 27, 28}\n",
      "{19, 20, 22, 24, 25, 26}\n",
      "True\n",
      "False\n"
     ]
    }
   ],
   "source": [
    "A={19,22,24,20,25,26}\n",
    "B={19,22,20,25,26,24,28,27}\n",
    "C=A.union(B)                       #joining the sets A and B\n",
    "print(C)\n",
    "print(A.intersection(B))           #finding the intersection of the both sets\n",
    "print(A.issubset(B))               #finding if A is a subset of set B...expected outcome should be true as all the elements in setA exist in setB\n",
    "print(B.isdisjoint(A))             #finding if set A and set B are disjoint(ie;there should not be any common elements betweeen the both.) \n",
    "                                   #the outcome for this should be false\n"
   ]
  },
  {
   "cell_type": "code",
   "execution_count": 49,
   "id": "83115446",
   "metadata": {},
   "outputs": [
    {
     "name": "stdout",
     "output_type": "stream",
     "text": [
      "set()\n",
      "{19, 20, 22, 24, 25, 26, 27, 28}\n",
      "{19, 20, 22, 24, 25, 26, 27, 28}\n"
     ]
    }
   ],
   "source": [
    "print(A.symmetric_difference(B))    #finding the symetric difference between the two sets\n",
    "A.update(B)                         #joining A with B\n",
    "print(A)                          \n",
    "B.update(A)                         #joining B with A\n",
    "print(B)"
   ]
  },
  {
   "cell_type": "code",
   "execution_count": 36,
   "id": "3bf0bb73",
   "metadata": {},
   "outputs": [
    {
     "ename": "NameError",
     "evalue": "name 'it_companies' is not defined",
     "output_type": "error",
     "traceback": [
      "\u001b[1;31m---------------------------------------------------------------------------\u001b[0m",
      "\u001b[1;31mNameError\u001b[0m                                 Traceback (most recent call last)",
      "Input \u001b[1;32mIn [36]\u001b[0m, in \u001b[0;36m<cell line: 4>\u001b[1;34m()\u001b[0m\n\u001b[0;32m      2\u001b[0m \u001b[38;5;28;01mdel\u001b[39;00m A\n\u001b[0;32m      3\u001b[0m \u001b[38;5;28;01mdel\u001b[39;00m B\n\u001b[1;32m----> 4\u001b[0m \u001b[38;5;28mprint\u001b[39m(\u001b[43mit_companies\u001b[49m)\n",
      "\u001b[1;31mNameError\u001b[0m: name 'it_companies' is not defined"
     ]
    }
   ],
   "source": [
    "#deleting all the sets\n",
    "del it_companies         #deleting the set it_companines...if we try to print out..we would get an error as it has been already removed\n",
    "del A\n",
    "del B\n",
    "print(it_companies)"
   ]
  },
  {
   "cell_type": "code",
   "execution_count": 40,
   "id": "8a6c1048",
   "metadata": {},
   "outputs": [
    {
     "name": "stdout",
     "output_type": "stream",
     "text": [
      "{19, 22, 24, 25, 26}\n",
      "True\n"
     ]
    }
   ],
   "source": [
    "#converting age to set and comparing the length\n",
    "age=[22,19,24,25,26,24,25,24]\n",
    "sage=set(age)                   #converting age(list) into a set\n",
    "print(sage)\n",
    "print(len(age)>len(sage))       #comparing the length of age and sage"
   ]
  },
  {
   "cell_type": "code",
   "execution_count": 51,
   "id": "630dcb7d",
   "metadata": {},
   "outputs": [
    {
     "name": "stdout",
     "output_type": "stream",
     "text": [
      "2826.0\n",
      "188.4\n"
     ]
    }
   ],
   "source": [
    "#question5\n",
    "#calculating the area and the circumfrence of a circle\n",
    "rad=30\n",
    "pi=3.14\n",
    "_area_of_circle_=pi*rad*rad\n",
    "print(_area_of_circle_)\n",
    "_circum_of_the_circle=2*pi*rad\n",
    "print(_circum_of_the_circle)\n",
    "#the remaing part of the question is continued down\n"
   ]
  },
  {
   "cell_type": "code",
   "execution_count": 2,
   "id": "90bf7e70",
   "metadata": {},
   "outputs": [
    {
     "name": "stdout",
     "output_type": "stream",
     "text": [
      "enter the radius of the circle:20\n",
      "area of the circle is:1256\n"
     ]
    }
   ],
   "source": [
    "#calculating the area by taking radius as the user input\n",
    "pi=3.14\n",
    "rad=int(input(\"enter the radius of the circle:\"))  #taking radius as the user input\n",
    "area=pi*rad*rad\n",
    "print('area of the circle is:%d'%area)"
   ]
  },
  {
   "cell_type": "code",
   "execution_count": 54,
   "id": "190becde",
   "metadata": {},
   "outputs": [
    {
     "name": "stdout",
     "output_type": "stream",
     "text": [
      "10\n",
      "{'and', 'inspire', 'to', 'teacher', 'teach', 'I', 'am', 'love', 'people', 'a'}\n"
     ]
    }
   ],
   "source": [
    "#question6\n",
    "#finding the number of unique words and getting them by using split and set method\n",
    "str='I am a teacher and I love to inspire and teach people'\n",
    "u=set(str.split(\" \"))          #splitting the string and placing them in a set..\n",
    "print(len(u))\n",
    "print(u)        \n",
    "        "
   ]
  },
  {
   "cell_type": "code",
   "execution_count": 55,
   "id": "e5528b92",
   "metadata": {},
   "outputs": [
    {
     "name": "stdout",
     "output_type": "stream",
     "text": [
      "Name\t\tAge\tCountry\tCity\n",
      "\n",
      "Asabeneh\t250\tFinland\tHelinski\n"
     ]
    }
   ],
   "source": [
    "#question 7\n",
    "#tab escape sequence to get the following\n",
    "print('Name\\t\\tAge\\tCountry\\tCity\\n')           #using\\t and \\n to get the desired format\n",
    "print('Asabeneh\\t250\\tFinland\\tHelinski')"
   ]
  },
  {
   "cell_type": "code",
   "execution_count": 56,
   "id": "12b898bb",
   "metadata": {},
   "outputs": [
    {
     "name": "stdout",
     "output_type": "stream",
     "text": [
      "radius =10\n",
      "area=3.14*radius**2\n",
      "The area of the circle with 10 is 314 meters square \n"
     ]
    }
   ],
   "source": [
    "#question 8\n",
    "#string formatting metod\n",
    "res='radius ={}\\narea=3.14*radius**{}\\nThe area of the circle with {} is {} meters square '.format(10,2,10,int(area))\n",
    "print(res)"
   ]
  },
  {
   "cell_type": "code",
   "execution_count": 3,
   "id": "2e1aa0a8",
   "metadata": {},
   "outputs": [
    {
     "name": "stdout",
     "output_type": "stream",
     "text": [
      "enter the number of students:5\n",
      "enter the weights in lb:162\n",
      "enter the weights in lb:173\n",
      "enter the weights in lb:189\n",
      "enter the weights in lb:192\n",
      "enter the weights in lb:200\n",
      "\n",
      "the weights in lb: [162, 173, 189, 192, 200]\n",
      "\n",
      "the weights in kilograms: [73.481904, 78.471416, 85.728888, 87.089664, 90.7184]\n"
     ]
    }
   ],
   "source": [
    "#question 9\n",
    "#reading the weight(in pounds) of n students into a list and converting them into kilogrms\n",
    "n=int(input('enter the number of students:'))      #user input of the n number of students\n",
    "weights_lb=[]                                      #creating empty lists\n",
    "weights_kg=[]\n",
    "for i in range(n):                                 #using for loop for taking the values into the list and converting with range as the number of students\n",
    "    lb=int(input(\"enter the weights in lb:\"))      #user input of weight in pounds\n",
    "    weights_lb.append(lb)                          #appendingthe given user inp into a list\n",
    "    kg=lb*0.453592                                 #converting the user inputlb into kg\n",
    "    weights_kg.append(kg)                          #appending the converted weights into the new list(weight_kg)\n",
    "print('\\nthe weights in lb:',weights_lb)\n",
    "print('\\nthe weights in kilograms:',weights_kg)\n",
    "    "
   ]
  },
  {
   "cell_type": "code",
   "execution_count": 14,
   "id": "092f75eb",
   "metadata": {},
   "outputs": [
    {
     "name": "stdout",
     "output_type": "stream",
     "text": [
      "the points in the dataset are: [[ 1  0]\n",
      " [ 2  0]\n",
      " [ 3  0]\n",
      " [ 6  0]\n",
      " [ 6  0]\n",
      " [ 7  0]\n",
      " [10  0]\n",
      " [11  0]]\n",
      "CB-class label of the dataset CA: [0 0 1 1 1 0 0 0]\n",
      "[[1 0]\n",
      " [2 0]\n",
      " [3 0]\n",
      " [6 0]]\n",
      "[0 0 1 1]\n",
      "CB test data prediction class labels [1 1 1 1]\n",
      "the confusion matrix is:\n",
      " [[0 3]\n",
      " [0 1]]\n",
      "the accuracy is: 0.25\n",
      "the sensitivity is: 1.0\n",
      "the specificity is: 0.0\n"
     ]
    }
   ],
   "source": [
    "#question 10\n",
    "import numpy as ng\n",
    "import pandas as pd\n",
    "from sklearn.model_selection import train_test_split\n",
    "from sklearn.preprocessing import StandardScaler\n",
    "from sklearn.neighbors import KNeighborsClassifier\n",
    "from sklearn.metrics import confusion_matrix\n",
    "\n",
    "CA=ng.array([[1,0],[2,0],[3,0],[6,0],[6,0],[7,0],[10,0],[11,0]])\n",
    "CB=ng.array([0,0,1,1,1,0,0,0])\n",
    "print('the points in the dataset are:',CA)\n",
    "print('CB-class label of the dataset CA:',CB)\n",
    "CA_train,CA_test,CB_train,CB_test=train_test_split(CA,CB,test_size=0.50,random_state=0,shuffle=False)\n",
    "print(CA_train)\n",
    "print(CB_train)\n",
    "standscalar=StandardScaler()\n",
    "CA_train=standscalar.fit_transform(CA_train)\n",
    "CA_test=standscalar.transform(CA_test)\n",
    "\n",
    "classify=KNeighborsClassifier(n_neighbors=3)\n",
    "classify.fit(CA_train,CB_train)\n",
    "CB_predict=classify.predict(CA_test)\n",
    "print('CB test data prediction class labels',CB_predict)\n",
    "\n",
    "confusionmatrix=confusion_matrix(CB_test,CB_predict)\n",
    "print('the confusion matrix is:\\n',confusionmatrix)\n",
    "\n",
    "tpn=sum(sum(confusionmatrix))\n",
    "accuracy=(confusionmatrix[0,0]+confusionmatrix[1,1])/tpn\n",
    "print('the accuracy is:',accuracy)\n",
    "sen=confusionmatrix[1,1]/(confusionmatrix[1,0]+confusionmatrix[1,1])\n",
    "print('the sensitivity is:',sen)\n",
    "spe=confusionmatrix[0,0]/(confusionmatrix[0,0]+confusionmatrix[0,1])\n",
    "print('the specificity is:',spe)\n",
    "\n",
    "\n",
    "\n",
    "\n"
   ]
  }
 ],
 "metadata": {
  "kernelspec": {
   "display_name": "Python 3 (ipykernel)",
   "language": "python",
   "name": "python3"
  },
  "language_info": {
   "codemirror_mode": {
    "name": "ipython",
    "version": 3
   },
   "file_extension": ".py",
   "mimetype": "text/x-python",
   "name": "python",
   "nbconvert_exporter": "python",
   "pygments_lexer": "ipython3",
   "version": "3.10.6"
  }
 },
 "nbformat": 4,
 "nbformat_minor": 5
}
